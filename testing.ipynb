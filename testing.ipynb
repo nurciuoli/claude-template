{
 "cells": [
  {
   "cell_type": "code",
   "execution_count": 2,
   "metadata": {},
   "outputs": [
    {
     "name": "stdout",
     "output_type": "stream",
     "text": [
      "PROMPT:\n",
      "hi\n",
      "...\n",
      "Hello! I'm Claude, an AI assistant created by Anthropic. It's nice to meet you. How can I help you today?\n",
      "...\n"
     ]
    }
   ],
   "source": [
    "from claude import Worker\n",
    "\n",
    "agent = Worker('you are a smart chatbased assistant')\n",
    "\n",
    "agent.chat('hi')"
   ]
  },
  {
   "cell_type": "code",
   "execution_count": 3,
   "metadata": {},
   "outputs": [
    {
     "name": "stdout",
     "output_type": "stream",
     "text": [
      "PROMPT:\n",
      "please follow these instructions\n",
      "...\n",
      "Here's a joke for you:\n",
      "\n",
      "Why can't a bicycle stand up by itself? It's two-tired!\n",
      "\n",
      "And now for a random fact:\n",
      "\n",
      "The first product to have a barcode was Wrigley's gum.\n",
      "...\n"
     ]
    }
   ],
   "source": [
    "from claude import Worker\n",
    "\n",
    "agent = Worker('you are a smart chatbased assistant')\n",
    "\n",
    "attachments = [{'name':'instructions',\n",
    "                'content':'1. First, tell a joke 2. Then tell me a random fact'}]\n",
    "\n",
    "agent.chat('please follow these instructions',\n",
    "attachments=attachments)\n"
   ]
  },
  {
   "cell_type": "code",
   "execution_count": 1,
   "metadata": {},
   "outputs": [
    {
     "name": "stdout",
     "output_type": "stream",
     "text": [
      "PROMPT:\n",
      "Please extract the name, size, price, and color from this product description and output it within a JSON object.\n",
      "\n",
      "     <description>The SmartHome Mini is a compact smart home assistant available in black or white for only $49.99. At just 5 inches wide, it lets you control lights, thermostats, and other connected devices via voice or app—no matter where you place it in your home. This affordable little hub brings convenient hands-free control to your smart devices.\n",
      "</description>\n",
      "...\n",
      "{'name': 'SmartHome Mini', 'size': '5 inches wide', 'price': '$49.99', 'color': ['black', 'white']}\n",
      "...\n"
     ]
    }
   ],
   "source": [
    "from claude import Worker\n",
    "\n",
    "\n",
    "agent = Worker('you are a smart chatbased assistant')\n",
    "\n",
    "agent.chat(\"Please extract the name, size, price, and color from this product description and output it within a JSON object.\\n\\n \\\n",
    "    <description>The SmartHome Mini is a compact smart home assistant available in black or white for only $49.99. At just 5 inches wide, it lets you control lights, thermostats, and other connected devices via voice or app—no matter where you place it in your home. This affordable little hub brings convenient hands-free control to your smart devices.\\n</description>\",\n",
    "    json_mode=True)"
   ]
  }
 ],
 "metadata": {
  "kernelspec": {
   "display_name": "Python 3",
   "language": "python",
   "name": "python3"
  },
  "language_info": {
   "codemirror_mode": {
    "name": "ipython",
    "version": 3
   },
   "file_extension": ".py",
   "mimetype": "text/x-python",
   "name": "python",
   "nbconvert_exporter": "python",
   "pygments_lexer": "ipython3",
   "version": "3.11.8"
  }
 },
 "nbformat": 4,
 "nbformat_minor": 2
}
