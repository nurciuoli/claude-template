{
 "cells": [
  {
   "cell_type": "code",
   "execution_count": 1,
   "metadata": {},
   "outputs": [
    {
     "name": "stdout",
     "output_type": "stream",
     "text": [
      "PROMPT:\n",
      "hi\n",
      "...\n",
      "Hello! I'm Claude, an AI assistant created by Anthropic. It's nice to meet you. How can I help you today?\n",
      "...\n"
     ]
    }
   ],
   "source": [
    "from claude import Worker\n",
    "\n",
    "test = Worker('you are a smart chatbased assistant')\n",
    "\n",
    "test.chat('hi')\n"
   ]
  },
  {
   "cell_type": "code",
   "execution_count": 2,
   "metadata": {},
   "outputs": [
    {
     "name": "stdout",
     "output_type": "stream",
     "text": [
      "PROMPT:\n",
      "whats up?\n",
      "...\n",
      "I'm doing well, thanks for asking! As an AI, I don't experience ups and downs in the same way humans do, but I'm operating properly and ready to assist you with any questions or tasks you might have. How are you doing today?\n",
      "...\n"
     ]
    }
   ],
   "source": [
    "test.chat('whats up?')"
   ]
  },
  {
   "cell_type": "code",
   "execution_count": 3,
   "metadata": {},
   "outputs": [
    {
     "name": "stdout",
     "output_type": "stream",
     "text": [
      "PROMPT:\n",
      "what was the last thing I said?\n",
      "...\n",
      "The last thing you said was \"what's up?\".\n",
      "...\n"
     ]
    }
   ],
   "source": [
    "test.chat(\"what was the last thing I said?\")"
   ]
  }
 ],
 "metadata": {
  "kernelspec": {
   "display_name": "Python 3",
   "language": "python",
   "name": "python3"
  },
  "language_info": {
   "codemirror_mode": {
    "name": "ipython",
    "version": 3
   },
   "file_extension": ".py",
   "mimetype": "text/x-python",
   "name": "python",
   "nbconvert_exporter": "python",
   "pygments_lexer": "ipython3",
   "version": "3.11.8"
  }
 },
 "nbformat": 4,
 "nbformat_minor": 2
}
